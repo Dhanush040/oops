{
  "metadata": {
    "kernelspec": {
      "name": "python",
      "display_name": "Python (Pyodide)",
      "language": "python"
    },
    "language_info": {
      "codemirror_mode": {
        "name": "python",
        "version": 3
      },
      "file_extension": ".py",
      "mimetype": "text/x-python",
      "name": "python",
      "nbconvert_exporter": "python",
      "pygments_lexer": "ipython3",
      "version": "3.8"
    }
  },
  "nbformat_minor": 4,
  "nbformat": 4,
  "cells": [
    {
      "cell_type": "code",
      "source": "#1 \nClass: A class is a blueprint or template for creating objects. It defines attributes and methods that the created objects can use. Think of a class as a recipe for baking cookies; it outlines the ingredients and steps required to make a cookie.\n\nObject: An object is an instance of a class. It represents a specific entity with the properties and behaviors defined by the class. Continuing with the cookie analogy, an object is an actual cookie made using the recipe.\n\nExample:",
      "metadata": {
        "trusted": true
      },
      "outputs": [],
      "execution_count": null
    },
    {
      "cell_type": "code",
      "source": "class Car:\n    def __init__(self, make, model, year):\n        self.make = make\n        self.model = model\n        self.year = year\n\n    def display_info(self):\n        print(f\"Car: {self.year} {self.make} {self.model}\")\n\n# Creating an object of the Car class\nmy_car = Car(\"Toyota\", \"Camry\", 2020)\nmy_car.display_info()  # Output: Car: 2020 Toyota Camry\n",
      "metadata": {
        "trusted": true
      },
      "outputs": [
        {
          "name": "stdout",
          "text": "Car: 2020 Toyota Camry\n",
          "output_type": "stream"
        }
      ],
      "execution_count": 1
    },
    {
      "cell_type": "code",
      "source": "#2\nThe four pillars of Object-Oriented Programming are:\n\nEncapsulation\n\nInheritance\n\nPolymorphism\n\nAbstraction",
      "metadata": {
        "trusted": true
      },
      "outputs": [],
      "execution_count": null
    },
    {
      "cell_type": "code",
      "source": "#3\nThe __init__() function is a special method in Python used to initialize the attributes of an object when it is created. It is called a constructor.\n\nExample:\n\npython",
      "metadata": {
        "trusted": true
      },
      "outputs": [],
      "execution_count": null
    },
    {
      "cell_type": "code",
      "source": "class Student:\n    def __init__(self, name, age, grade):\n        self.name = name\n        self.age = age\n        self.grade = grade\n\n    def display_info(self):\n        print(f\"Name: {self.name}, Age: {self.age}, Grade: {self.grade}\")\n\n# Creating an object of the Student class\nstudent1 = Student(\"Alice\", 20, \"A\")\nstudent1.display_info()  # Output: Name: Alice, Age: 20, Grade: A\n",
      "metadata": {
        "trusted": true
      },
      "outputs": [
        {
          "name": "stdout",
          "text": "Name: Alice, Age: 20, Grade: A\n",
          "output_type": "stream"
        }
      ],
      "execution_count": 2
    },
    {
      "cell_type": "code",
      "source": "#4\nThe self keyword is used to refer to the instance of the class within the class methods. It allows access to the attributes and methods of the class in Python. Without self, you wouldn't be able to refer to instance variables.\n\nExample:",
      "metadata": {
        "trusted": true
      },
      "outputs": [],
      "execution_count": null
    },
    {
      "cell_type": "code",
      "source": "class Dog:\n    def __init__(self, name, breed):\n        self.name = name\n        self.breed = breed\n\n    def bark(self):\n        print(f\"{self.name} is barking.\")\n\n# Creating an object of the Dog class\ndog1 = Dog(\"Buddy\", \"Golden Retriever\")\ndog1.bark()  # Output: Buddy is barking.\n",
      "metadata": {
        "trusted": true
      },
      "outputs": [
        {
          "name": "stdout",
          "text": "Buddy is barking.\n",
          "output_type": "stream"
        }
      ],
      "execution_count": 3
    },
    {
      "cell_type": "code",
      "source": "#5\nInheritance is a mechanism in OOP that allows a class to inherit attributes and methods from another class. It promotes code reusability.\n\nTypes of Inheritance:single ,multiple, multilevel,Hierarchical Inheritance:",
      "metadata": {
        "trusted": true
      },
      "outputs": [],
      "execution_count": null
    },
    {
      "cell_type": "code",
      "source": "class Animal:\n    def speak(self):\n        print(\"Animal speaks\")\n\nclass Dog(Animal):\n    def bark(self):\n        print(\"Dog barks\")\n\ndog = Dog()\ndog.speak()  # Output: Animal speaks\ndog.bark()   # Output: Dog barks\n",
      "metadata": {
        "trusted": true
      },
      "outputs": [
        {
          "name": "stdout",
          "text": "Animal speaks\nDog barks\n",
          "output_type": "stream"
        }
      ],
      "execution_count": 4
    },
    {
      "cell_type": "code",
      "source": "class A:\n    def method_a(self):\n        print(\"Method A\")\n\nclass B:\n    def method_b(self):\n        print(\"Method B\")\n\nclass C(A, B):\n    pass\n\nc = C()\nc.method_a()  # Output: Method A\nc.method_b()  # Output: Method B\n",
      "metadata": {
        "trusted": true
      },
      "outputs": [
        {
          "name": "stdout",
          "text": "Method A\nMethod B\n",
          "output_type": "stream"
        }
      ],
      "execution_count": 5
    },
    {
      "cell_type": "code",
      "source": "class Animal:\n    def speak(self):\n        print(\"Animal speaks\")\n\nclass Mammal(Animal):\n    def walk(self):\n        print(\"Mammal walks\")\n\nclass Dog(Mammal):\n    def bark(self):\n        print(\"Dog barks\")\n\ndog = Dog()\ndog.speak()  # Output: Animal speaks\ndog.walk()   # Output: Mammal walks\ndog.bark()   # Output: Dog barks\n",
      "metadata": {
        "trusted": true
      },
      "outputs": [
        {
          "name": "stdout",
          "text": "Animal speaks\nMammal walks\nDog barks\n",
          "output_type": "stream"
        }
      ],
      "execution_count": 6
    },
    {
      "cell_type": "code",
      "source": "class Animal:\n    def speak(self):\n        print(\"Animal speaks\")\n\nclass Dog(Animal):\n    def bark(self):\n        print(\"Dog barks\")\n\nclass Cat(Animal):\n    def meow(self):\n        print(\"Cat meows\")\n\ndog = Dog()\ncat = Cat()\n\ndog.speak()  # Output: Animal speaks\ndog.bark()   # Output: Dog barks\ncat.speak()  # Output: Animal speaks\ncat.meow()   # Output: Cat meows\n",
      "metadata": {
        "trusted": true
      },
      "outputs": [
        {
          "name": "stdout",
          "text": "Animal speaks\nDog barks\nAnimal speaks\nCat meows\n",
          "output_type": "stream"
        }
      ],
      "execution_count": 7
    },
    {
      "cell_type": "code",
      "source": "",
      "metadata": {
        "trusted": true
      },
      "outputs": [],
      "execution_count": null
    }
  ]
}